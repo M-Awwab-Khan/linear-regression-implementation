{
  "nbformat": 4,
  "nbformat_minor": 0,
  "metadata": {
    "colab": {
      "provenance": [],
      "authorship_tag": "ABX9TyMchWOVaaa48DTAmE4CtlVd",
      "include_colab_link": true
    },
    "kernelspec": {
      "name": "python3",
      "display_name": "Python 3"
    },
    "language_info": {
      "name": "python"
    }
  },
  "cells": [
    {
      "cell_type": "markdown",
      "metadata": {
        "id": "view-in-github",
        "colab_type": "text"
      },
      "source": [
        "<a href=\"https://colab.research.google.com/github/M-Awwab-Khan/linear-regression-implementation/blob/main/Linear_Regression_Implementation.ipynb\" target=\"_parent\"><img src=\"https://colab.research.google.com/assets/colab-badge.svg\" alt=\"Open In Colab\"/></a>"
      ]
    },
    {
      "cell_type": "markdown",
      "source": [
        "## Tools\n",
        "In this lab you will make use of:\n",
        "- NumPy, a popular library for scientific computing\n",
        "- Matplotlib, a popular library for plotting data"
      ],
      "metadata": {
        "id": "FhdgIL0AQKeb"
      }
    },
    {
      "cell_type": "code",
      "source": [
        "import numpy as np\n",
        "import matplotlib.pyplot as plt\n",
        "plt.style.use('./deeplearning.mplstyle')"
      ],
      "metadata": {
        "id": "9HiVC3-NQMPw"
      },
      "execution_count": null,
      "outputs": []
    },
    {
      "cell_type": "markdown",
      "source": [
        "# Problem Statement\n",
        "\n",
        "As in the lecture, you will use the motivating example of housing price prediction.\n",
        "This lab will use a simple data set with only two data points - a house with 1000 square feet(sqft) sold for \\$300,000 and a house with 2000 square feet sold for \\$500,000. These two points will constitute our *data or training set*. In this lab, the units of size are 1000 sqft and the units of price are 1000s of dollars.\n",
        "\n",
        "| Size (1000 sqft)     | Price (1000s of dollars) |\n",
        "| -------------------| ------------------------ |\n",
        "| 1.0               | 300                      |\n",
        "| 2.0               | 500                      |\n",
        "\n",
        "You would like to fit a linear regression model (shown above as the blue straight line) through these two points, so you can then predict price for other houses - say, a house with 1200 sqft.\n"
      ],
      "metadata": {
        "id": "hsJvC5c3P8wr"
      }
    },
    {
      "cell_type": "code",
      "execution_count": null,
      "metadata": {
        "id": "oRAWo_OSPtUY"
      },
      "outputs": [],
      "source": [
        "# x_train is the input variable (size in 1000 square feet)\n",
        "# y_train is the target (price in 1000s of dollars)\n",
        "x_train = np.array([1.0, 2.0])\n",
        "y_train = np.array([300.0, 500.0])\n",
        "print(f\"x_train = {x_train}\")\n",
        "print(f\"y_train = {y_train}\")"
      ]
    },
    {
      "cell_type": "markdown",
      "source": [
        "### Number of training examples `m`\n",
        "You will use `m` to denote the number of training examples. Numpy arrays have a `.shape` parameter. `x_train.shape` returns a python tuple with an entry for each dimension. `x_train.shape[0]` is the length of the array and number of examples as shown below."
      ],
      "metadata": {
        "id": "32iwnPo9Qn0U"
      }
    },
    {
      "cell_type": "code",
      "source": [
        "# m is the number of training examples\n",
        "print(f\"x_train.shape: {x_train.shape}\")\n",
        "m = x_train.shape[0]\n",
        "print(f\"Number of training examples is: {m}\")"
      ],
      "metadata": {
        "id": "Y7NKhOTqQrXi"
      },
      "execution_count": null,
      "outputs": []
    },
    {
      "cell_type": "markdown",
      "source": [
        "### Training example `x_i, y_i`\n",
        "\n",
        "You will use (x$^{(i)}$, y$^{(i)}$) to denote the $i^{th}$ training example. Since Python is zero indexed, (x$^{(0)}$, y$^{(0)}$) is (1.0, 300.0) and (x$^{(1)}$, y$^{(1)}$) is (2.0, 500.0).\n",
        "\n",
        "To access a value in a Numpy array, one indexes the array with the desired offset. For example the syntax to access location zero of `x_train` is `x_train[0]`.\n",
        "Run the next code block below to get the $i^{th}$ training example."
      ],
      "metadata": {
        "id": "xdsBn3FiQvVT"
      }
    },
    {
      "cell_type": "code",
      "source": [
        "i = 0 # Change this to 1 to see (x^1, y^1)\n",
        "\n",
        "x_i = x_train[i]\n",
        "y_i = y_train[i]\n",
        "print(f\"(x^({i}), y^({i})) = ({x_i}, {y_i})\")"
      ],
      "metadata": {
        "id": "CrmrFUSXQyQg"
      },
      "execution_count": null,
      "outputs": []
    },
    {
      "cell_type": "markdown",
      "source": [
        "### Plotting the data\n",
        "You can plot these two points using the `scatter()` function in the `matplotlib` library, as shown in the cell below.\n",
        "- The function arguments `marker` and `c` show the points as red crosses (the default is blue dots).\n",
        "\n",
        "You can use other functions in the `matplotlib` library to set the title and labels to display"
      ],
      "metadata": {
        "id": "wjiPUAU_Q_XS"
      }
    },
    {
      "cell_type": "code",
      "source": [
        "# Plot the data points\n",
        "plt.scatter(x_train, y_train, marker='x', c='r')\n",
        "# Set the title\n",
        "plt.title(\"Housing Prices\")\n",
        "# Set the y-axis label\n",
        "plt.ylabel('Price (in 1000s of dollars)')\n",
        "# Set the x-axis label\n",
        "plt.xlabel('Size (1000 sqft)')\n",
        "plt.show()"
      ],
      "metadata": {
        "id": "mqlWsPnLRCc6"
      },
      "execution_count": null,
      "outputs": []
    },
    {
      "cell_type": "markdown",
      "source": [
        "## Model function\n",
        "As described in lecture, the model function for linear regression (which is a function that maps from `x` to `y`) is represented as\n",
        "\n",
        "$$ f_{w,b}(x^{(i)}) = wx^{(i)} + b \\tag{1}$$\n",
        "\n",
        "The formula above is how you can represent straight lines - different values of $w$ and $b$ give you different straight lines on the plot.\n",
        "\n",
        "Let's try to get a better intuition for this through the code blocks below. Let's start with $w = 100$ and $b = 100$.\n",
        "\n",
        "**Note: You can come back to this cell to adjust the model's w and b parameters**"
      ],
      "metadata": {
        "id": "jlFnFkvxRGhT"
      }
    },
    {
      "cell_type": "code",
      "source": [
        "w = 100\n",
        "b = 100\n",
        "print(f\"w: {w}\")\n",
        "print(f\"b: {b}\")"
      ],
      "metadata": {
        "id": "xg8xktHZRPu4"
      },
      "execution_count": null,
      "outputs": []
    },
    {
      "cell_type": "markdown",
      "source": [
        "Now, let's compute the value of $f_{w,b}(x^{(i)})$ for your two data points. You can explicitly write this out for each data point as -\n",
        "\n",
        "for $x^{(0)}$, `f_wb = w * x[0] + b`\n",
        "\n",
        "for $x^{(1)}$, `f_wb = w * x[1] + b`\n",
        "\n",
        "For a large number of data points, this can get unwieldy and repetitive. So instead, you can calculate the function output in a `for` loop as shown in the `compute_model_output` function below.\n",
        "> **Note**: The argument description `(ndarray (m,))` describes a Numpy n-dimensional array of shape (m,). `(scalar)` describes an argument without dimensions, just a magnitude.  \n",
        "> **Note**: `np.zero(n)` will return a one-dimensional numpy array with $n$ entries   \n"
      ],
      "metadata": {
        "id": "7cFEj4i-Rfh5"
      }
    },
    {
      "cell_type": "code",
      "source": [
        "def compute_model_output(x, w, b):\n",
        "    \"\"\"\n",
        "    Computes the prediction of a linear model\n",
        "    Args:\n",
        "      x (ndarray (m,)): Data, m examples\n",
        "      w,b (scalar)    : model parameters\n",
        "    Returns\n",
        "      y (ndarray (m,)): target values\n",
        "    \"\"\"\n",
        "    m = x.shape[0]\n",
        "    f_wb = np.zeros(m)\n",
        "    for i in range(m):\n",
        "        f_wb[i] = w * x[i] + b\n",
        "\n",
        "    return f_wb"
      ],
      "metadata": {
        "id": "RDOSikcbRhxO"
      },
      "execution_count": null,
      "outputs": []
    },
    {
      "cell_type": "markdown",
      "source": [
        "Now let's call the `compute_model_output` function and plot the output.."
      ],
      "metadata": {
        "id": "_G7DzafaSMRo"
      }
    },
    {
      "cell_type": "code",
      "source": [
        "tmp_f_wb = compute_model_output(x_train, w, b,)\n",
        "\n",
        "# Plot our model prediction\n",
        "plt.plot(x_train, tmp_f_wb, c='b',label='Our Prediction')\n",
        "\n",
        "# Plot the data points\n",
        "plt.scatter(x_train, y_train, marker='x', c='r',label='Actual Values')\n",
        "\n",
        "# Set the title\n",
        "plt.title(\"Housing Prices\")\n",
        "# Set the y-axis label\n",
        "plt.ylabel('Price (in 1000s of dollars)')\n",
        "# Set the x-axis label\n",
        "plt.xlabel('Size (1000 sqft)')\n",
        "plt.legend()\n",
        "plt.show()"
      ],
      "metadata": {
        "id": "RSfNoW-uSNlD"
      },
      "execution_count": null,
      "outputs": []
    }
  ]
}